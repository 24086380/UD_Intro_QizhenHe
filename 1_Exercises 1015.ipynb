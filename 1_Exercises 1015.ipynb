{
 "cells": [
  {
   "cell_type": "markdown",
   "id": "38e188a5",
   "metadata": {},
   "source": [
    "# Exercise 00\n",
    "Write a piece of code that allocates a list of 20 integers and initializes each element by its index multiplied by 5. Print the result."
   ]
  },
  {
   "cell_type": "code",
   "execution_count": 18,
   "id": "050bdc52-7318-42d4-968b-52cacd00dbc2",
   "metadata": {},
   "outputs": [
    {
     "name": "stdout",
     "output_type": "stream",
     "text": [
      "[0, 5, 10, 15, 20, 25, 30, 35, 40, 45, 50, 55, 60, 65, 70, 75, 80, 85, 90, 95]\n"
     ]
    }
   ],
   "source": [
    "list = [i * 5 for i in range(20)]\n",
    "print(list)"
   ]
  },
  {
   "cell_type": "markdown",
   "id": "529d91ae",
   "metadata": {},
   "source": [
    "# Exercise 01\n",
    "Define a function that takes an integer as input, prints  all integers that it is divisable by, and returns the largest one."
   ]
  },
  {
   "cell_type": "code",
   "execution_count": 45,
   "id": "30e79132",
   "metadata": {},
   "outputs": [
    {
     "name": "stdout",
     "output_type": "stream",
     "text": [
      "1\n",
      "2\n",
      "5\n",
      "The largest divisor is: 5\n"
     ]
    }
   ],
   "source": [
    "def divisors(n):\n",
    "    divisors = 1\n",
    "    for i in range(1, int(n/2) + 1):\n",
    "        if n % i == 0:\n",
    "            divisors = i\n",
    "            print(i) \n",
    "    return divisors\n",
    "num = 18\n",
    "largest_divisor = divisors(n)\n",
    "print(\"The largest divisor is:\", largest_divisor)\n"
   ]
  },
  {
   "cell_type": "markdown",
   "id": "cfbe30d4",
   "metadata": {},
   "source": [
    "# Exercise 02\n",
    "- create a dictionary with 6 keys and values of your choice\n",
    "- write a function that takes a dictionary and a value as input and returns whether the value occurs as a key in the dictionary\n",
    "- write a function that takes a dictionary as input, and returns the dictionary but the keys are swapped with their values (resolve the issue if a value occurs twice!)"
   ]
  },
  {
   "cell_type": "code",
   "execution_count": 70,
   "id": "2123f1c6",
   "metadata": {},
   "outputs": [
    {
     "name": "stdout",
     "output_type": "stream",
     "text": [
      "{1: 'nice', 2: 'awesome', 3: 'perfect', 4: 'excellent', 5: 'splendid', 6: 'welldone'}\n",
      "True\n",
      "{'nice': 1, 'awesome': 2, 'perfect': 3, 'excellent': 4, 'splendid': 5, 'welldone': 6}\n"
     ]
    }
   ],
   "source": [
    "my_dict = {\n",
    "    1: \"nice\",\n",
    "    2: \"awesome\",\n",
    "    3: \"perfect\",\n",
    "    4: \"excellent\",\n",
    "    5: \"splendid\",\n",
    "    6: \"welldone\"\n",
    "}\n",
    "print (my_dict)\n",
    "\n",
    "def is_value_a_key(dictionary, value):\n",
    "    return value in dictionary\n",
    "value_to_check = 2\n",
    "print(is_value_a_key(my_dict, value_to_check))\n",
    "\n",
    "def swap_keys_values(dictionary):\n",
    "    swapped_dict = {}\n",
    "    for key, value in dictionary.items():\n",
    "        if value in swapped_dict:\n",
    "            swapped_value = value + \"_duplicate\"\n",
    "            swapped_dict[swapped_value] = key\n",
    "        else:\n",
    "            swapped_dict[value] = key\n",
    "    return swapped_dict\n",
    "\n",
    "swapped_dict = swap_keys_values(my_dict)\n",
    "print(swapped_dict)\n"
   ]
  },
  {
   "cell_type": "markdown",
   "id": "b4b4e426",
   "metadata": {},
   "source": [
    "# Exercise 03\n",
    "Define a function that creates a dictionary of the first n fibonacci numbers as values paired with their indices as keys. "
   ]
  },
  {
   "cell_type": "code",
   "execution_count": 22,
   "id": "7845b5a4",
   "metadata": {},
   "outputs": [
    {
     "name": "stdout",
     "output_type": "stream",
     "text": [
      "{0: 0, 1: 1, 2: 1, 3: 2, 4: 3, 5: 5, 6: 8, 7: 13, 8: 21, 9: 34}\n"
     ]
    }
   ],
   "source": [
    "def fibonacci_dict(n):\n",
    "    fib_dict = {}\n",
    "    a, b = 0, 1\n",
    "    for i in range(n):\n",
    "        fib_dict[i] = a\n",
    "        c = a + b\n",
    "        a = b\n",
    "        b = c\n",
    "    return fib_dict\n",
    "n = 10 \n",
    "fib_dict = fibonacci_dict(n)\n",
    "print(fib_dict)"
   ]
  },
  {
   "cell_type": "code",
   "execution_count": null,
   "id": "0bec1207-c3f6-4433-b088-570757344fce",
   "metadata": {},
   "outputs": [],
   "source": []
  }
 ],
 "metadata": {
  "kernelspec": {
   "display_name": "Python 3 (ipykernel)",
   "language": "python",
   "name": "python3"
  },
  "language_info": {
   "codemirror_mode": {
    "name": "ipython",
    "version": 3
   },
   "file_extension": ".py",
   "mimetype": "text/x-python",
   "name": "python",
   "nbconvert_exporter": "python",
   "pygments_lexer": "ipython3",
   "version": "3.12.4"
  }
 },
 "nbformat": 4,
 "nbformat_minor": 5
}
